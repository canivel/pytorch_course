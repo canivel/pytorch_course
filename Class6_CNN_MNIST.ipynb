{
 "cells": [
  {
   "cell_type": "code",
   "execution_count": 15,
   "metadata": {},
   "outputs": [
    {
     "data": {
      "text/plain": [
       "<torch._C.Generator at 0x1145d39f0>"
      ]
     },
     "execution_count": 15,
     "metadata": {},
     "output_type": "execute_result"
    }
   ],
   "source": [
    "import numpy as np\n",
    "import torch\n",
    "import torch.nn as nn\n",
    "import torch.nn.functional as F\n",
    "from torchvision import datasets, transforms\n",
    "import matplotlib.pyplot as plt\n",
    "from tqdm import tqdm\n",
    "plt.style.use('seaborn')\n",
    "torch.manual_seed(2019)"
   ]
  },
  {
   "cell_type": "code",
   "execution_count": 2,
   "metadata": {},
   "outputs": [
    {
     "data": {
      "text/plain": [
       "device(type='cpu')"
      ]
     },
     "execution_count": 2,
     "metadata": {},
     "output_type": "execute_result"
    }
   ],
   "source": [
    "device = torch.device(\"cuda:0\"if torch.cuda.is_available() else \"cpu\")\n",
    "device"
   ]
  },
  {
   "cell_type": "code",
   "execution_count": 3,
   "metadata": {},
   "outputs": [],
   "source": [
    "transform = transforms.Compose([transforms.Resize((28,28)),\n",
    "                               transforms.ToTensor(),\n",
    "                               transforms.Normalize((0.5,), (0.5,))\n",
    "                               ])"
   ]
  },
  {
   "cell_type": "code",
   "execution_count": 4,
   "metadata": {},
   "outputs": [],
   "source": [
    "training_dataset = datasets.MNIST(root='./data', train=True, download=True, transform=transform)\n",
    "validation_dataset = datasets.MNIST(root='./data', train=False, download=True, transform=transform)\n",
    "\n",
    "training_loader = torch.utils.data.DataLoader(training_dataset, batch_size=100, shuffle=True)\n",
    "validation_loader = torch.utils.data.DataLoader(validation_dataset, batch_size=100, shuffle=False)"
   ]
  },
  {
   "cell_type": "code",
   "execution_count": 5,
   "metadata": {},
   "outputs": [],
   "source": [
    "# transform = transforms.Compose([transforms.Resize((28,28)),\n",
    "#                                transforms.ToTensor(),\n",
    "#                                transforms.Normalize((0.5,), (0.5,))\n",
    "#                                ])\n",
    "# training_dataset = datasets.MNIST(root='./data', train=True, download=True, transform=transform)\n",
    "# validation_dataset = datasets.MNIST(root='./data', train=False, download=True, transform=transform)\n",
    "\n",
    "# training_loader = torch.utils.data.DataLoader(training_dataset, batch_size=100, shuffle=True)\n",
    "# validation_loader = torch.utils.data.DataLoader(validation_dataset, batch_size = 100, shuffle=False)"
   ]
  },
  {
   "cell_type": "code",
   "execution_count": 6,
   "metadata": {},
   "outputs": [
    {
     "data": {
      "text/plain": [
       "Dataset MNIST\n",
       "    Number of datapoints: 60000\n",
       "    Split: train\n",
       "    Root Location: ./data\n",
       "    Transforms (if any): Compose(\n",
       "                             Resize(size=(28, 28), interpolation=PIL.Image.BILINEAR)\n",
       "                             ToTensor()\n",
       "                             Normalize(mean=(0.5,), std=(0.5,))\n",
       "                         )\n",
       "    Target Transforms (if any): None"
      ]
     },
     "execution_count": 6,
     "metadata": {},
     "output_type": "execute_result"
    }
   ],
   "source": [
    "training_dataset"
   ]
  },
  {
   "cell_type": "code",
   "execution_count": 7,
   "metadata": {},
   "outputs": [],
   "source": [
    "#convert from tensor to numpy\n",
    "def im_convert(tensor):\n",
    "    image = tensor.cpu().clone().detach().numpy() # (1,28,28)\n",
    "    image = image.transpose(1, 2, 0) # (28,28,1)\n",
    "    image = image * np.array((.5, .5, .5)) + np.array((.5, .5, .5)) #denormalize\n",
    "    image = image.clip(0, 1)\n",
    "    return image"
   ]
  },
  {
   "cell_type": "code",
   "execution_count": 8,
   "metadata": {},
   "outputs": [],
   "source": [
    "dataiter = iter(training_loader)\n",
    "images, labels = dataiter.next()"
   ]
  },
  {
   "cell_type": "code",
   "execution_count": 9,
   "metadata": {},
   "outputs": [
    {
     "data": {
      "image/png": "[encoded data removed]",
      "text/plain": [
       "<Figure size 1800x288 with 20 Axes>"
      ]
     },
     "metadata": {},
     "output_type": "display_data"
    }
   ],
   "source": [
    "#Plot some images\n",
    "fig = plt.figure(figsize=(25, 4))\n",
    "\n",
    "for idx in np.arange(20):\n",
    "    ax = fig.add_subplot(2, 10, idx+1, xticks=[], yticks=[])\n",
    "    plt.imshow(im_convert(images[idx]))\n",
    "    ax.set_title([labels[idx].item()])"
   ]
  },
  {
   "cell_type": "code",
   "execution_count": 17,
   "metadata": {},
   "outputs": [],
   "source": [
    "class LeNet(nn.Module):\n",
    "    def __init__(self):\n",
    "        super().__init__()\n",
    "        self.conv1 = nn.Conv2d(in_channels=1, out_channels=20, kernel_size=5, stride=1)#lkernel size = n of the filters\n",
    "        self.conv2 = nn.Conv2d(in_channels=20, out_channels=50, kernel_size=5, stride=1)#\n",
    "        self.fc1 = nn.Linear(4*4*50, 500)#depth of 50 and 4x4 image\n",
    "        self.dropout1 = nn.Dropout(0.5)#drop to prevent overfitting better used on large layers\n",
    "        self.fc2 = nn.Linear(500, 10)\n",
    "        \n",
    "    def forward(self, x):\n",
    "        x = F.relu(self.conv1(x))\n",
    "        x = F.max_pool2d(x, 2, 2)#cut the zise of the picture in half but mantain the information\n",
    "        x = F.relu(self.conv2(x))\n",
    "        x = F.max_pool2d(x, 2, 2)#cut the zise\n",
    "        x = x.view(-1, 4*4*50) #flatten to the fully connected layer\n",
    "        x = F.relu(self.fc1(x))\n",
    "        x = self.dropout1(x)\n",
    "        x = self.fc2(x)\n",
    "        return x"
   ]
  },
  {
   "cell_type": "code",
   "execution_count": 18,
   "metadata": {},
   "outputs": [
    {
     "data": {
      "text/plain": [
       "LeNet(\n",
       "  (conv1): Conv2d(1, 20, kernel_size=(5, 5), stride=(1, 1))\n",
       "  (conv2): Conv2d(20, 50, kernel_size=(5, 5), stride=(1, 1))\n",
       "  (fc1): Linear(in_features=800, out_features=500, bias=True)\n",
       "  (dropout1): Dropout(p=0.5)\n",
       "  (fc2): Linear(in_features=500, out_features=10, bias=True)\n",
       ")"
      ]
     },
     "execution_count": 18,
     "metadata": {},
     "output_type": "execute_result"
    }
   ],
   "source": [
    "model = LeNet().to(device)\n",
    "model"
   ]
  },
  {
   "cell_type": "code",
   "execution_count": 19,
   "metadata": {},
   "outputs": [],
   "source": [
    "criterion = nn.CrossEntropyLoss() # used for multiclass classification\n",
    "optmizer = torch.optim.Adam(model.parameters(), lr=0.0001)"
   ]
  },
  {
   "cell_type": "code",
   "execution_count": null,
   "metadata": {},
   "outputs": [
    {
     "name": "stdout",
     "output_type": "stream",
     "text": [
      "training loss: 0.5735 - training acc: 85.0033 | validation loss: 0.1723 - val acc: 94.9700\n",
      "training loss: 0.1428 - training acc: 95.7317 | validation loss: 0.0997 - val acc: 96.8900\n",
      "training loss: 0.0967 - training acc: 97.0833 | validation loss: 0.0738 - val acc: 97.8400\n",
      "training loss: 0.0739 - training acc: 97.7750 | validation loss: 0.0603 - val acc: 98.1400\n",
      "training loss: 0.0624 - training acc: 98.1617 | validation loss: 0.0510 - val acc: 98.3700\n",
      "training loss: 0.0539 - training acc: 98.3650 | validation loss: 0.0457 - val acc: 98.6100\n",
      "training loss: 0.0469 - training acc: 98.5967 | validation loss: 0.0391 - val acc: 98.7100\n",
      "training loss: 0.0422 - training acc: 98.7183 | validation loss: 0.0355 - val acc: 98.8400\n",
      "training loss: 0.0384 - training acc: 98.8433 | validation loss: 0.0359 - val acc: 98.7800\n",
      "training loss: 0.0346 - training acc: 98.9217 | validation loss: 0.0320 - val acc: 99.0000\n",
      "training loss: 0.0308 - training acc: 99.0383 | validation loss: 0.0322 - val acc: 98.9100\n",
      "training loss: 0.0299 - training acc: 99.0933 | validation loss: 0.0283 - val acc: 99.0800\n",
      "training loss: 0.0269 - training acc: 99.1583 | validation loss: 0.0291 - val acc: 99.0200\n",
      "training loss: 0.0263 - training acc: 99.1817 | validation loss: 0.0287 - val acc: 99.1500\n",
      "training loss: 0.0239 - training acc: 99.2683 | validation loss: 0.0260 - val acc: 99.1200\n",
      "training loss: 0.0212 - training acc: 99.3667 | validation loss: 0.0266 - val acc: 99.0200\n",
      "training loss: 0.0203 - training acc: 99.3533 | validation loss: 0.0255 - val acc: 99.1700\n",
      "training loss: 0.0194 - training acc: 99.3850 | validation loss: 0.0293 - val acc: 99.0500\n",
      "training loss: 0.0183 - training acc: 99.4300 | validation loss: 0.0272 - val acc: 99.0900\n"
     ]
    }
   ],
   "source": [
    "epochs = 20\n",
    "running_loss_history = []\n",
    "running_correct_history = []\n",
    "val_running_loss_history = []\n",
    "val_running_correct_history = []\n",
    "\n",
    "for epoch in range(epochs):\n",
    "    #each training batch\n",
    "    running_loss = 0.0\n",
    "    running_corrects = 0.0\n",
    "    val_running_loss = 0.0\n",
    "    val_running_corrects = 0.0\n",
    "    \n",
    "    for inputs, labels in training_loader:\n",
    "        inputs = inputs.to(device)\n",
    "        labels = labels.to(device)\n",
    "        outputs = model(inputs) # return proba for each class (score)\n",
    "        loss = criterion(outputs, labels)\n",
    "        \n",
    "        optmizer.zero_grad()\n",
    "        loss.backward()\n",
    "        optmizer.step()\n",
    "        \n",
    "        #max score output class\n",
    "        _, preds = torch.max(outputs, 1)\n",
    "        \n",
    "        running_loss += loss.item()\n",
    "        #number of correct predictions\n",
    "        running_corrects += torch.sum(preds == labels.data)\n",
    "        \n",
    "        \n",
    "    else:\n",
    "        #execute once loop end\n",
    "        \n",
    "        with torch.no_grad(): #set all the grad flags to false to get better perfomance\n",
    "            for val_inputs, val_labels in validation_loader:\n",
    "                val_inputs = val_inputs.to(device)\n",
    "                val_labels = val_labels.to(device)\n",
    "                \n",
    "                val_outputs = model(val_inputs) # return proba for each class (score)\n",
    "                val_loss = criterion(val_outputs, val_labels)\n",
    "                \n",
    "                #max score output class\n",
    "                _, val_preds = torch.max(val_outputs, 1)\n",
    "\n",
    "                val_running_loss += val_loss.item()\n",
    "                #number of correct predictions\n",
    "                val_running_corrects += torch.sum(val_preds == val_labels.data)\n",
    "\n",
    "\n",
    "            epoch_loss = running_loss/len(training_loader)#n of batches\n",
    "            epoch_acc = running_corrects.float()/len(training_loader)\n",
    "            running_loss_history.append(epoch_loss)\n",
    "            running_correct_history.append(epoch_acc)\n",
    "            \n",
    "            val_epoch_loss = val_running_loss/len(validation_loader)#n of batches\n",
    "            val_epoch_acc = val_running_corrects.float()/len(validation_loader)\n",
    "            val_running_loss_history.append(val_epoch_loss)\n",
    "            val_running_correct_history.append(val_epoch_acc)\n",
    "            \n",
    "            print('training loss: {:.4f} - training acc: {:.4f} | validation loss: {:.4f} - val acc: {:.4f}'.format(\n",
    "                epoch_loss, epoch_acc.item(), val_epoch_loss, val_epoch_acc.item()))"
   ]
  },
  {
   "cell_type": "code",
   "execution_count": null,
   "metadata": {},
   "outputs": [],
   "source": [
    "plt.plot(running_loss_history, label='training loss')\n",
    "plt.plot(val_running_loss_history, label='validation loss')\n",
    "plt.legend()"
   ]
  },
  {
   "cell_type": "code",
   "execution_count": null,
   "metadata": {},
   "outputs": [],
   "source": [
    "plt.plot(running_correct_history, label='training accuracy')\n",
    "plt.plot(val_running_correct_history, label='validation accuracy')\n",
    "plt.legend()"
   ]
  },
  {
   "cell_type": "markdown",
   "metadata": {},
   "source": [
    "# test random images"
   ]
  },
  {
   "cell_type": "code",
   "execution_count": null,
   "metadata": {},
   "outputs": [],
   "source": [
    "import PIL.ImageOps\n",
    "import requests\n",
    "from PIL import Image\n",
    "\n",
    "url = 'https://images.homedepot-static.com/productImages/007164ea-d47e-4f66-8d8c-fd9f621984a2/svn/architectural-mailboxes-house-letters-numbers-3585b-5-64_1000.jpg'\n",
    "response = requests.get(url, stream = True)\n",
    "img = Image.open(response.raw)\n",
    "plt.imshow(img)"
   ]
  },
  {
   "cell_type": "code",
   "execution_count": null,
   "metadata": {},
   "outputs": [],
   "source": [
    "#Preprocessing\n",
    "img = PIL.ImageOps.invert(img)\n",
    "img = img.convert('1')\n",
    "img = transform(img) \n",
    "plt.imshow(im_convert(img))"
   ]
  },
  {
   "cell_type": "code",
   "execution_count": null,
   "metadata": {},
   "outputs": [],
   "source": [
    "#predict\n",
    "imgs = img.to(device)\n",
    "imgs = imgs[0].unsquezee(0).unsquezee(0)\n",
    "output = model(imgs)\n",
    "_, pred = torch.max(output, 1)\n",
    "print(output)\n",
    "print(\"Prediction: \", pred.item())"
   ]
  },
  {
   "cell_type": "code",
   "execution_count": null,
   "metadata": {},
   "outputs": [],
   "source": [
    "#predict all vals and print 20\n",
    "dataiter = iter(validation_loader)\n",
    "images, labels = dataiter.next()\n",
    "images = images.to(device)\n",
    "labels = labels.to(device)\n",
    "output = model(images_)\n",
    "_, preds = torch.max(output, 1)\n",
    "\n",
    "fig = plt.figure(figsize=(25, 4))\n",
    "\n",
    "for idx in np.arange(40):\n",
    "    ax = fig.add_subplot(4, 10, idx+1, xticks=[], yticks=[])\n",
    "    plt.imshow(im_convert(images[idx]))\n",
    "    ax.set_title(\"{} ({})\".format(str(preds[idx].item()), \n",
    "                                  str(labels[idx].item())), \n",
    "                 color=(\"green\" if preds[idx]==labels[idx] else \"red\"))"
   ]
  },
  {
   "cell_type": "code",
   "execution_count": null,
   "metadata": {},
   "outputs": [],
   "source": []
  },
  {
   "cell_type": "markdown",
   "metadata": {},
   "source": [
    "## example of too large learning rate, the gradient descent overshoot the minima: lr = 0.01"
   ]
  },
  {
   "cell_type": "code",
   "execution_count": null,
   "metadata": {},
   "outputs": [],
   "source": [
    "plt.plot(running_loss_history, label='training loss')"
   ]
  }
 ],
 "metadata": {
  "kernelspec": {
   "display_name": "Python 3",
   "language": "python",
   "name": "python3"
  },
  "language_info": {
   "codemirror_mode": {
    "name": "ipython",
    "version": 3
   },
   "file_extension": ".py",
   "mimetype": "text/x-python",
   "name": "python",
   "nbconvert_exporter": "python",
   "pygments_lexer": "ipython3",
   "version": "3.6.8"
  }
 },
 "nbformat": 4,
 "nbformat_minor": 2
}
